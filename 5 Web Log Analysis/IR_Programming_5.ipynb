{
  "nbformat": 4,
  "nbformat_minor": 0,
  "metadata": {
    "colab": {
      "name": "IR#5.ipynb",
      "provenance": []
    },
    "kernelspec": {
      "name": "python3",
      "display_name": "Python 3"
    },
    "language_info": {
      "name": "python"
    }
  },
  "cells": [
    {
      "cell_type": "markdown",
      "metadata": {
        "id": "XetjmbVaxVk5"
      },
      "source": [
        "**Informaiton Retrieval Programming Assignment #5**\n",
        "<br>**Web Query Log Analysis**\n",
        "<br>Analyze the web queries and learn about user queries\n",
        "\n",
        "\n",
        "<br><br>**Author:** Helen Ting He; **Date:** Nov 13, 2021"
      ]
    },
    {
      "cell_type": "code",
      "metadata": {
        "id": "44Mpg1RJ0j1Y"
      },
      "source": [
        "import pandas as pd\n",
        "import io\n",
        "import re\n",
        "import matplotlib.pyplot as plt"
      ],
      "execution_count": 171,
      "outputs": []
    },
    {
      "cell_type": "code",
      "metadata": {
        "colab": {
          "resources": {
            "http://localhost:8080/nbextensions/google.colab/files.js": {
              "data": "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",
              "ok": true,
              "headers": [
                [
                  "content-type",
                  "application/javascript"
                ]
              ],
              "status": 200,
              "status_text": ""
            }
          },
          "base_uri": "https://localhost:8080/",
          "height": 72
        },
        "id": "nuM2cIoGxoL0",
        "outputId": "f8e6e720-81ec-435d-fdb9-bb1d58ab8ea7"
      },
      "source": [
        "# upload files\n",
        "from google.colab import files\n",
        "uploaded = files.upload()"
      ],
      "execution_count": 1,
      "outputs": [
        {
          "output_type": "display_data",
          "data": {
            "text/html": [
              "\n",
              "     <input type=\"file\" id=\"files-757f6589-9df4-4e4d-a12d-0ac131bc76c5\" name=\"files[]\" multiple disabled\n",
              "        style=\"border:none\" />\n",
              "     <output id=\"result-757f6589-9df4-4e4d-a12d-0ac131bc76c5\">\n",
              "      Upload widget is only available when the cell has been executed in the\n",
              "      current browser session. Please rerun this cell to enable.\n",
              "      </output>\n",
              "      <script src=\"/nbextensions/google.colab/files.js\"></script> "
            ],
            "text/plain": [
              "<IPython.core.display.HTML object>"
            ]
          },
          "metadata": {}
        },
        {
          "output_type": "stream",
          "name": "stdout",
          "text": [
            "Saving 19991220-Excite-QueryLog.tsv to 19991220-Excite-QueryLog (1).tsv\n"
          ]
        }
      ]
    },
    {
      "cell_type": "code",
      "metadata": {
        "id": "EH6uyhoUyi2l"
      },
      "source": [
        "# read file\n",
        "log = pd.read_csv(io.BytesIO(uploaded['19991220-Excite-QueryLog.tsv']),sep='\\t',header=None)"
      ],
      "execution_count": 4,
      "outputs": []
    },
    {
      "cell_type": "code",
      "metadata": {
        "colab": {
          "base_uri": "https://localhost:8080/",
          "height": 0
        },
        "id": "Gmm0dIqIzUGW",
        "outputId": "c95010c2-e015-4dcb-c9ab-ccae0efa06c9"
      },
      "source": [
        "# Q1 average number of queries per user id\n",
        "# A1: 4.577906\n",
        "log.rename(columns = {0:'time', 1:'id', 2:'rank', 3:'query'}, inplace = True)\n",
        "log.groupby('id').count().mean()"
      ],
      "execution_count": 8,
      "outputs": [
        {
          "output_type": "execute_result",
          "data": {
            "text/plain": [
              "time     4.577906\n",
              "rank     4.577906\n",
              "query    4.577607\n",
              "dtype: float64"
            ]
          },
          "metadata": {},
          "execution_count": 8
        }
      ]
    },
    {
      "cell_type": "code",
      "metadata": {
        "colab": {
          "base_uri": "https://localhost:8080/",
          "height": 0
        },
        "id": "DkGzKYRDKIIJ",
        "outputId": "d008cef1-3a27-4feb-ae41-f580bfc897e1"
      },
      "source": [
        "# Q2 mean and median query length in both words and characters\n",
        "# words\n",
        "print(\"mean of words: \", log['query'].str.split().str.len().mean())\n",
        "print(\"median of words: \", log['query'].str.split().str.len().median())\n",
        "# characters\n",
        "print(\"mean of characters: \", log['query'].str.len().mean())\n",
        "print(\"median of characters: \", log['query'].str.len().median())"
      ],
      "execution_count": 37,
      "outputs": [
        {
          "output_type": "stream",
          "name": "stdout",
          "text": [
            "mean of words:  3.317793680298915\n",
            "median of words:  2.0\n",
            "mean of characters:  20.946263683066345\n",
            "median of characters:  17.0\n"
          ]
        }
      ]
    },
    {
      "cell_type": "code",
      "metadata": {
        "colab": {
          "base_uri": "https://localhost:8080/",
          "height": 0
        },
        "id": "5IQqhPiY0-Fl",
        "outputId": "ae0dc1f7-847c-41ab-8d0d-f437d0c6d28b"
      },
      "source": [
        "# Q3 percentage of mixed case, all upper case, all lower case\n",
        "deno = log.shape[0]\n",
        "up = log['query'].str.isupper().sum()\n",
        "low = log['query'].str.islower().sum()\n",
        "other = deno - up - low\n",
        "print('all upper case: ', up / deno)\n",
        "print('all lower case: ', low / deno)\n",
        "print('mixed case: ', other / deno)"
      ],
      "execution_count": 42,
      "outputs": [
        {
          "output_type": "stream",
          "name": "stdout",
          "text": [
            "all upper case:  0.04378866701005597\n",
            "all lower case:  0.6690299850699118\n",
            "mixed case:  0.2871813479200322\n"
          ]
        }
      ]
    },
    {
      "cell_type": "code",
      "metadata": {
        "colab": {
          "base_uri": "https://localhost:8080/",
          "height": 0
        },
        "id": "Rkyu0z7DQXLU",
        "outputId": "03dadc89-3ad0-43a7-f3c0-8c1dc55370c8"
      },
      "source": [
        "# Q4 percent of time does a user request only the top 10 results\n",
        "deno = log.groupby(['id']).count().shape[0]\n",
        "numer = deno - len(log[log['rank'] != 0]['id'].unique())\n",
        "print('percent of only top 10 request: ', numer/deno)"
      ],
      "execution_count": 100,
      "outputs": [
        {
          "output_type": "stream",
          "name": "stdout",
          "text": [
            "percent of only top 10 request:  0.7283510028064379\n"
          ]
        }
      ]
    },
    {
      "cell_type": "code",
      "metadata": {
        "colab": {
          "base_uri": "https://localhost:8080/",
          "height": 0
        },
        "id": "Bvfvfnuate0E",
        "outputId": "fd729da9-8506-4b1b-a0b4-2f20b5f0d067"
      },
      "source": [
        "# Q5 percent of queries ending with ? symbol and most common type of question\n",
        "deno = log.shape[0]\n",
        "print('end with ?: ', 204698/deno)\n",
        "print('most common type of question is ending with \"s\"')"
      ],
      "execution_count": 127,
      "outputs": [
        {
          "output_type": "stream",
          "name": "stdout",
          "text": [
            "end with ?:  0.08354727140190181\n",
            "most common type of question is ending with \"s\"\n"
          ]
        }
      ]
    },
    {
      "cell_type": "code",
      "metadata": {
        "colab": {
          "base_uri": "https://localhost:8080/",
          "height": 0
        },
        "id": "CzYaGSWs3R3a",
        "outputId": "60594f81-301f-4506-d5e9-9eb7f385b926"
      },
      "source": [
        "log['query'].str.slice(start = -1).value_counts()"
      ],
      "execution_count": 124,
      "outputs": [
        {
          "output_type": "execute_result",
          "data": {
            "text/plain": [
              "s    637659\n",
              "e    240275\n",
              "?    204698\n",
              "n    145737\n",
              "t    113281\n",
              "      ...  \n",
              "\u0006         1\n",
              "£         1\n",
              "         1\n",
              "\u0010         1\n",
              "Ê         1\n",
              "Name: query, Length: 194, dtype: int64"
            ]
          },
          "metadata": {},
          "execution_count": 124
        }
      ]
    },
    {
      "cell_type": "code",
      "metadata": {
        "colab": {
          "base_uri": "https://localhost:8080/",
          "height": 0
        },
        "id": "UR0W2Uib5Xyf",
        "outputId": "3c203008-3562-42f0-94fc-ac99ca85b6d9"
      },
      "source": [
        "# Q6 what are the 20-most common queries issued?\n",
        "log['query'].value_counts()[0:20]"
      ],
      "execution_count": 131,
      "outputs": [
        {
          "output_type": "execute_result",
          "data": {
            "text/plain": [
              "sex                                   4632\n",
              "yahoo                                 3103\n",
              "internal site admin check from kho    2160\n",
              "chat                                  1507\n",
              "porn                                  1478\n",
              "horoscopes                            1315\n",
              "pokemon                               1284\n",
              "SiteScope test                        1269\n",
              "hotmail                               1236\n",
              "games                                 1157\n",
              "mp3                                   1148\n",
              "weather                               1130\n",
              "www.yahoo.com                         1114\n",
              "maps                                  1107\n",
              "yahoo.com                             1026\n",
              "recipes                                983\n",
              "ebay                                   980\n",
              "britney spears                         912\n",
              "xxx                                    855\n",
              "horoscope                              854\n",
              "Name: query, dtype: int64"
            ]
          },
          "metadata": {},
          "execution_count": 131
        }
      ]
    },
    {
      "cell_type": "code",
      "metadata": {
        "colab": {
          "base_uri": "https://localhost:8080/",
          "height": 0
        },
        "id": "uRv1J1SF6LXO",
        "outputId": "7dbc1a68-f4d5-4883-8621-98fb4490e312"
      },
      "source": [
        "# Q7 what are the 20 most common non-stopwords \n",
        "import nltk\n",
        "from nltk.corpus import stopwords\n",
        "from collections import Counter, defaultdict\n",
        "nltk.download('stopwords')\n",
        "stop = stopwords.words('english')"
      ],
      "execution_count": 17,
      "outputs": [
        {
          "output_type": "stream",
          "name": "stdout",
          "text": [
            "[nltk_data] Downloading package stopwords to /root/nltk_data...\n",
            "[nltk_data]   Package stopwords is already up-to-date!\n"
          ]
        }
      ]
    },
    {
      "cell_type": "code",
      "metadata": {
        "colab": {
          "base_uri": "https://localhost:8080/",
          "height": 0
        },
        "id": "V6YLTO5N6nSy",
        "outputId": "2e942331-f55d-4842-82f0-837494e96a78"
      },
      "source": [
        "result = defaultdict(int)\n",
        "for string in log['query']:\n",
        "  if (type(string) is str):\n",
        "    for word in str(string.lower()).split():\n",
        "      if word not in stop:\n",
        "        result[word] = result[word] + 1\n",
        "sorted_result = sorted(result.items(), key=lambda x:x[1], reverse=True)\n",
        "sorted_result[0:20]"
      ],
      "execution_count": 35,
      "outputs": [
        {
          "output_type": "execute_result",
          "data": {
            "text/plain": [
              "[('find', 147175),\n",
              " ('free', 56576),\n",
              " ('pictures', 34164),\n",
              " ('information', 30747),\n",
              " ('sex', 29715),\n",
              " ('christmas', 26683),\n",
              " ('nude', 25689),\n",
              " ('0', 21170),\n",
              " ('new', 20092),\n",
              " ('pics', 17803),\n",
              " ('buy', 17028),\n",
              " ('get', 14797),\n",
              " ('web', 13819),\n",
              " ('music', 12917),\n",
              " ('women', 12088),\n",
              " ('games', 12057),\n",
              " ('online', 11524),\n",
              " ('cards', 10251),\n",
              " ('porn', 10136),\n",
              " ('stories', 9979)]"
            ]
          },
          "metadata": {},
          "execution_count": 35
        }
      ]
    },
    {
      "cell_type": "code",
      "metadata": {
        "colab": {
          "base_uri": "https://localhost:8080/",
          "height": 0
        },
        "id": "ADxzLvWx8kD-",
        "outputId": "a34f92bb-f128-4564-da99-32cfb4f421fa"
      },
      "source": [
        "# Q8 percent of queries contain stopwords like 'and', 'the','of,'in','at'\n",
        "deno = log.shape[0]\n",
        "i_and = 0\n",
        "i_the = 0\n",
        "i_of = 0\n",
        "i_in = 0\n",
        "i_at = 0\n",
        "for string in log['query']:\n",
        "  if type(string) is str:\n",
        "    if 'and' in string:\n",
        "      i_and = i_and + 1\n",
        "    if 'the' in string:\n",
        "      i_the = i_the + 1\n",
        "    if 'of' in string:\n",
        "      i_of = i_of + 1\n",
        "    if 'in' in string:\n",
        "      i_in = i_in + 1\n",
        "    if 'at' in string:\n",
        "      i_at = i_at + 1\n",
        "print('percent of and: ', i_and / deno)\n",
        "print('percent of the: ', i_the/ deno)\n",
        "print('percent of of: ', i_of/ deno)\n",
        "print('percent of in: ', i_in/ deno)\n",
        "print('percent of at: ', i_at/ deno)"
      ],
      "execution_count": 46,
      "outputs": [
        {
          "output_type": "stream",
          "name": "stdout",
          "text": [
            "percent of and:  0.0429029838136294\n",
            "percent of the:  0.06419652208126572\n",
            "percent of of:  0.0565106694213999\n",
            "percent of in:  0.2570485280924833\n",
            "percent of at:  0.15560555833550332\n"
          ]
        }
      ]
    },
    {
      "cell_type": "code",
      "metadata": {
        "colab": {
          "base_uri": "https://localhost:8080/",
          "height": 0
        },
        "id": "LyHLybkb80r7",
        "outputId": "0a94f276-d749-4891-8c8e-08b330e7c937"
      },
      "source": [
        "# Q9 10 most common non-stopwords appearing in queries that contain the word 'download'\n",
        "word_list = []\n",
        "for string in log['query']:\n",
        "  if type(string) is str:\n",
        "    if 'download' in string:\n",
        "      for word in string.lower().split():\n",
        "        if word not in stop:\n",
        "          word_list.append(word)\n",
        "result = Counter(word_list)\n",
        "result.most_common()[0:12]"
      ],
      "execution_count": 180,
      "outputs": [
        {
          "output_type": "execute_result",
          "data": {
            "text/plain": [
              "[('download', 8625),\n",
              " ('0', 3180),\n",
              " ('downloads', 2794),\n",
              " ('free', 2312),\n",
              " ('find', 1141),\n",
              " ('games', 881),\n",
              " ('mp3', 770),\n",
              " ('game', 624),\n",
              " ('music', 587),\n",
              " ('downloadable', 374),\n",
              " ('10', 336),\n",
              " ('software', 270)]"
            ]
          },
          "metadata": {},
          "execution_count": 180
        }
      ]
    },
    {
      "cell_type": "code",
      "metadata": {
        "colab": {
          "base_uri": "https://localhost:8080/",
          "height": 0
        },
        "id": "d4LpAuKx881J",
        "outputId": "c59f2856-cfbb-4e79-c111-71c6abfef993"
      },
      "source": [
        "# Q10 percentage of queries were asked by only one user\n",
        "deno = log.shape[0]\n",
        "nom = sum(log.groupby(['query'])['id'].count() == 1)\n",
        "print('percent of queries asked by only one user: ', nom / deno)"
      ],
      "execution_count": 64,
      "outputs": [
        {
          "output_type": "stream",
          "name": "stdout",
          "text": [
            "percent of queries asked by only one user:  0.37824386572552965\n"
          ]
        }
      ]
    },
    {
      "cell_type": "code",
      "metadata": {
        "colab": {
          "base_uri": "https://localhost:8080/",
          "height": 0
        },
        "id": "oGAbuaaB9EtP",
        "outputId": "74159285-700f-4f62-b956-82efa5f3521d"
      },
      "source": [
        "# Q11 find 10 examples of misspelled words\n",
        "!pip install pyspellchecker\n",
        "from spellchecker import SpellChecker\n",
        "spell = SpellChecker()"
      ],
      "execution_count": 65,
      "outputs": [
        {
          "output_type": "stream",
          "name": "stdout",
          "text": [
            "Requirement already satisfied: pyspellchecker in /usr/local/lib/python3.7/dist-packages (0.6.2)\n"
          ]
        }
      ]
    },
    {
      "cell_type": "code",
      "metadata": {
        "colab": {
          "base_uri": "https://localhost:8080/",
          "height": 0
        },
        "id": "gXmowBBveFUc",
        "outputId": "95c58f76-b9bc-4337-ff57-a309ba81208a"
      },
      "source": [
        "count = 0\n",
        "word_lst = []\n",
        "for string in log['query']:\n",
        "  if type(string) is str:\n",
        "    tokens = string.lower().split()\n",
        "    clean_tokens = [t for t in tokens if re.match(r'[^\\W\\d]*$', t)]\n",
        "    if count < 11:\n",
        "      if len(spell.unknown(clean_tokens)) != 0:\n",
        "        print(spell.unknown(clean_tokens))\n",
        "        count = count + 1"
      ],
      "execution_count": 126,
      "outputs": [
        {
          "output_type": "stream",
          "name": "stdout",
          "text": [
            "{'wirehair'}\n",
            "{'workability'}\n",
            "{'seyavash', 'shahnameh'}\n",
            "{'lagasse', 'emeril'}\n",
            "{'excell'}\n",
            "{'subalaksmi'}\n",
            "{'ficken'}\n",
            "{'backgruond', 'molscript'}\n",
            "{'nc'}\n",
            "{'ecko'}\n",
            "{'mcintire'}\n"
          ]
        }
      ]
    },
    {
      "cell_type": "code",
      "metadata": {
        "colab": {
          "base_uri": "https://localhost:8080/",
          "height": 0
        },
        "id": "N3vzERLX9JHP",
        "outputId": "d3c69668-85e5-46db-b331-c9940e00ee26"
      },
      "source": [
        "# Q12 which occurs in queries more often 'Al Gore' or 'Johns Hopkins'? 'Johns Hopkins' or 'John Hopkins'\n",
        "i_A = 0\n",
        "i_Js = 0\n",
        "i_J = 0\n",
        "for string in log['query']:\n",
        "  if type(string) is str:\n",
        "    if 'Al Gore' in string:\n",
        "      i_A = i_A + 1\n",
        "    if 'Johns Hopkins' in string:\n",
        "      i_Js = i_Js + 1\n",
        "    if 'John Hopkins' in string:\n",
        "      i_J = i_J + 1\n",
        "print('count of presenting \"Al Gore\": ', i_A)\n",
        "print('count of presenting \"Johns Hopkins\": ', i_Js)\n",
        "print('count of presenting \"John Hopkins\": ', i_J)"
      ],
      "execution_count": 82,
      "outputs": [
        {
          "output_type": "stream",
          "name": "stdout",
          "text": [
            "count of presenting \"Al Gore\":  34\n",
            "count of presenting \"Johns Hopkins\":  33\n",
            "count of presenting \"John Hopkins\":  9\n"
          ]
        }
      ]
    },
    {
      "cell_type": "code",
      "metadata": {
        "colab": {
          "base_uri": "https://localhost:8080/",
          "height": 0
        },
        "id": "_UamX_d_9avf",
        "outputId": "39d696c1-e64b-46ba-f6ca-d2f68192053d"
      },
      "source": [
        "# Q13 how often do URLs appear in queries \n",
        "url_count = 0\n",
        "regex = r\"(?i)\\b((?:https?://|www\\d{0,3}[.]|[a-z0-9.\\-]+[.][a-z]{2,4}/)(?:[^\\s()<>]+|\\(([^\\s()<>]+|(\\([^\\s()<>]+\\)))*\\))+(?:\\(([^\\s()<>]+|(\\([^\\s()<>]+\\)))*\\)|[^\\s`!()\\[\\]{};:'\\\".,<>?«»“”‘’]))\"\n",
        "for string in log['query']:\n",
        "  if type(string) is str:\n",
        "    result = re.findall(regex,string)\n",
        "    if len(result) != 0:\n",
        "      url_count = url_count + 1\n",
        "print('num of queries contain URL: ', url_count)"
      ],
      "execution_count": 111,
      "outputs": [
        {
          "output_type": "stream",
          "name": "stdout",
          "text": [
            "num of queries contain URL:  63121\n"
          ]
        }
      ]
    },
    {
      "cell_type": "code",
      "metadata": {
        "id": "tdh2RbNd99iB"
      },
      "source": [
        "# Q14 - 19 what are the most popular websites mentioned in the queries?\n",
        "regex = r\"(?i)\\b((?:https?://|www\\d{0,3}[.]|[a-z0-9.\\-]+[.][a-z]{2,4}/)(?:[^\\s()<>]+|\\(([^\\s()<>]+|(\\([^\\s()<>]+\\)))*\\))+(?:\\(([^\\s()<>]+|(\\([^\\s()<>]+\\)))*\\)|[^\\s`!()\\[\\]{};:'\\\".,<>?«»“”‘’]))\"\n",
        "url_list = []\n",
        "for string in log['query']:\n",
        "  if type(string) is str:\n",
        "    result = re.findall(regex,string)\n",
        "    if len(result) != 0:\n",
        "      url_list.append(result[0])\n",
        "count = Counter(url_list)\n"
      ],
      "execution_count": 114,
      "outputs": []
    },
    {
      "cell_type": "code",
      "metadata": {
        "colab": {
          "base_uri": "https://localhost:8080/",
          "height": 0
        },
        "id": "3lqGEbzMyDRL",
        "outputId": "74f2191d-abde-45c4-e515-74e625f4c0ff"
      },
      "source": [
        "count.most_common()[0:10]"
      ],
      "execution_count": 116,
      "outputs": [
        {
          "output_type": "execute_result",
          "data": {
            "text/plain": [
              "[(('www.yahoo.com', '', '', '', ''), 1166),\n",
              " (('www.hotmail.com', '', '', '', ''), 637),\n",
              " (('www.pokemon.com', '', '', '', ''), 202),\n",
              " (('www.aol.com', '', '', '', ''), 181),\n",
              " (('www.nick.com', '', '', '', ''), 178),\n",
              " (('www.bluemountain.com', '', '', '', ''), 175),\n",
              " (('www.excite.com', '', '', '', ''), 147),\n",
              " (('www.pch.com', '', '', '', ''), 147),\n",
              " (('www.wwf.com', '', '', '', ''), 143),\n",
              " (('www.amazon.com', '', '', '', ''), 140)]"
            ]
          },
          "metadata": {},
          "execution_count": 116
        }
      ]
    },
    {
      "cell_type": "code",
      "metadata": {
        "colab": {
          "base_uri": "https://localhost:8080/",
          "height": 0
        },
        "id": "nSzyC79U-HZc",
        "outputId": "8a522028-518e-4522-8ee6-af34fe188093"
      },
      "source": [
        "# Q15 - 14 estimate the percentage of queries that contain a person's name\n",
        "import spacy\n",
        "nlp = spacy.load(\"en_core_web_sm\")\n",
        "person_count = 0\n",
        "for string in log['query']:\n",
        "  if type(string) is str:\n",
        "    doc = nlp(string)\n",
        "    for token in doc:\n",
        "      if \"PERSON\" in token.ent_type_:\n",
        "        person_count = person_count + 1\n",
        "deno = log.shape[0]\n",
        "nom = person_count\n",
        "print('percent of queries contains person name: ', nom / deno)"
      ],
      "execution_count": 179,
      "outputs": [
        {
          "output_type": "stream",
          "name": "stderr",
          "text": [
            "\n",
            "KeyboardInterrupt\n",
            "\n"
          ]
        }
      ]
    },
    {
      "cell_type": "code",
      "metadata": {
        "id": "M0wFD_zp7F5Q"
      },
      "source": [
        "# Q16 - 18 how does query volumn change throughout the day\n",
        "volumn = log['time'].apply(str).str.zfill(6).str.slice(0,2).value_counts()\n",
        "volumn_df = pd.DataFrame({'hour': volumn.index, 'count': volumn.values})"
      ],
      "execution_count": 155,
      "outputs": []
    },
    {
      "cell_type": "code",
      "metadata": {
        "colab": {
          "base_uri": "https://localhost:8080/",
          "height": 282
        },
        "id": "EQYu9pLJIi2l",
        "outputId": "50663beb-6f23-49b5-d0d7-5bdb73566239"
      },
      "source": [
        "plt.plot(volumn_df['hour'],volumn_df['count'])"
      ],
      "execution_count": 174,
      "outputs": [
        {
          "output_type": "execute_result",
          "data": {
            "text/plain": [
              "[<matplotlib.lines.Line2D at 0x7f8d5a4b9f50>]"
            ]
          },
          "metadata": {},
          "execution_count": 174
        },
        {
          "output_type": "display_data",
          "data": {
            "image/png": "[encoded data removed]",
            "text/plain": [
              "<Figure size 432x288 with 1 Axes>"
            ]
          },
          "metadata": {
            "needs_background": "light"
          }
        }
      ]
    },
    {
      "cell_type": "code",
      "metadata": {
        "id": "I0GdsdO_Ld2L"
      },
      "source": [
        "??sns.displot()"
      ],
      "execution_count": 160,
      "outputs": []
    }
  ]
}