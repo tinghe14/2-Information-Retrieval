{
  "nbformat": 4,
  "nbformat_minor": 0,
  "metadata": {
    "colab": {
      "name": "IR Programming #4. ipynb",
      "provenance": []
    },
    "kernelspec": {
      "display_name": "Python 3",
      "name": "python3"
    },
    "language_info": {
      "name": "python"
    }
  },
  "cells": [
    {
      "cell_type": "markdown",
      "metadata": {
        "id": "u4XsQxs6dAsf"
      },
      "source": [
        "**Informaiton Retrieval Programming Assignment #4**\n",
        "<br>**Binary Text Classification**\n",
        "<br>Build a binary classifier using the systematic review dataset\n",
        "<br>- create feature vector: bag-of-word, tf-idf, 2-gram\n",
        "<br>- run classification algorithms: multinominal naive bayes\n",
        "<br>- report precision, recall and F1 scores\n",
        "<br>- conduct experiments of using title only vs using title, abstract and keywords\n",
        "\n",
        "\n",
        "<br><br>**Author:** Helen Ting He; **Date:** Oct 31, 2021"
      ]
    },
    {
      "cell_type": "code",
      "metadata": {
        "colab": {
          "base_uri": "https://localhost:8080/"
        },
        "id": "afWX5Z0ZdNf_",
        "outputId": "98397c9b-36d6-4b7c-dd63-25e1f9929cba"
      },
      "source": [
        "import pandas as pd\n",
        "import numpy as np\n",
        "import nltk\n",
        "from nltk import word_tokenize\n",
        "import string #remove punctuation\n",
        "import io\n",
        "import re\n",
        "import time\n",
        "import langdetect #detect which language it is \n",
        "from sklearn.feature_extraction.text import CountVectorizer\n",
        "from sklearn.naive_bayes import MultinomialNB\n",
        "from sklearn import feature_extraction\n",
        "\n",
        "nltk.download('punkt')\n",
        "nltk.download('wordnet')\n",
        "nltk.download('stopwords')"
      ],
      "execution_count": null,
      "outputs": [
        {
          "output_type": "stream",
          "name": "stdout",
          "text": [
            "[nltk_data] Downloading package punkt to /root/nltk_data...\n",
            "[nltk_data]   Package punkt is already up-to-date!\n",
            "[nltk_data] Downloading package wordnet to /root/nltk_data...\n",
            "[nltk_data]   Package wordnet is already up-to-date!\n",
            "[nltk_data] Downloading package stopwords to /root/nltk_data...\n",
            "[nltk_data]   Package stopwords is already up-to-date!\n"
          ]
        },
        {
          "output_type": "execute_result",
          "data": {
            "text/plain": [
              "True"
            ]
          },
          "metadata": {},
          "execution_count": 1
        }
      ]
    },
    {
      "cell_type": "code",
      "metadata": {
        "colab": {
          "resources": {
            "http://localhost:8080/nbextensions/google.colab/files.js": {
              "data": "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",
              "ok": true,
              "headers": [
                [
                  "content-type",
                  "application/javascript"
                ]
              ],
              "status": 200,
              "status_text": ""
            }
          },
          "base_uri": "https://localhost:8080/",
          "height": 89
        },
        "id": "GiYLZNEQV13R",
        "outputId": "cca27b80-b5ff-4a5c-8c29-b96897df30f8"
      },
      "source": [
        "# upload files\n",
        "from google.colab import files\n",
        "uploaded = files.upload()"
      ],
      "execution_count": null,
      "outputs": [
        {
          "output_type": "display_data",
          "data": {
            "text/html": [
              "\n",
              "     <input type=\"file\" id=\"files-a8953c0a-ece8-46a8-973e-2254b0b6263d\" name=\"files[]\" multiple disabled\n",
              "        style=\"border:none\" />\n",
              "     <output id=\"result-a8953c0a-ece8-46a8-973e-2254b0b6263d\">\n",
              "      Upload widget is only available when the cell has been executed in the\n",
              "      current browser session. Please rerun this cell to enable.\n",
              "      </output>\n",
              "      <script src=\"/nbextensions/google.colab/files.js\"></script> "
            ],
            "text/plain": [
              "<IPython.core.display.HTML object>"
            ]
          },
          "metadata": {}
        },
        {
          "output_type": "stream",
          "name": "stdout",
          "text": [
            "Saving phase1.dev.shuf.tsv to phase1.dev.shuf (4).tsv\n",
            "Saving phase1.test.shuf.tsv to phase1.test.shuf (4).tsv\n",
            "Saving phase1.train.shuf.tsv to phase1.train.shuf (4).tsv\n"
          ]
        }
      ]
    },
    {
      "cell_type": "code",
      "metadata": {
        "id": "6Tb_gz6IW7R9"
      },
      "source": [
        "# read files\n",
        "train_data = pd.read_csv(io.BytesIO(uploaded['phase1.train.shuf.tsv']),sep='\\t',header=None)\n",
        "dev_data = pd.read_csv(io.BytesIO(uploaded['phase1.dev.shuf.tsv']),sep='\\t',header=None)\n",
        "test_data = pd.read_csv(io.BytesIO(uploaded['phase1.test.shuf.tsv']),sep='\\t',header=None)"
      ],
      "execution_count": null,
      "outputs": []
    },
    {
      "cell_type": "code",
      "metadata": {
        "colab": {
          "base_uri": "https://localhost:8080/"
        },
        "id": "MvGj4sQHFbbK",
        "outputId": "5acba294-9571-42d5-ca0e-753bc91dd3b0"
      },
      "source": [
        "##################\n",
        "# pre-processing\n",
        "##################\n",
        "'''print('Num of paper in train data: ' + str(train_data.shape[0]))\n",
        "\n",
        "# only select the english paper\n",
        "train_data['lang'] = train_data[2].apply(langdetect.detect)\n",
        "train_en = train_data[train_data['lang'] == 'en']\n",
        "print('Num of English paper in train data: ' + str(train_en.shape[0]))\n",
        "\n",
        "print('Num of paper in dev data: ' + str(dev_data.shape[0]))\n",
        "# only select the english paper\n",
        "dev_data['lang'] = dev_data[2].apply(langdetect.detect)\n",
        "dev_en = dev_data[dev_data['lang'] == 'en']\n",
        "print('Num of English paper in dev data: ' + str(dev_en.shape[0]))'''\n",
        "\n",
        "print('Num of paper in test data: ' + str(test_data.shape[0]))\n",
        "# only select the english paper\n",
        "test_data['lang'] = test_data[2].apply(langdetect.detect)\n",
        "test_en = test_data[test_data['lang'] == 'en']\n",
        "print('Num of English paper in test data: ' + str(test_en.shape[0]))\n",
        "\n",
        "def pre_process(data):\n",
        "  # To pre process the data\n",
        "  # @input: pandas series \n",
        "  # @output: clean pandas series\n",
        "  result = []\n",
        "  for line in data:\n",
        "    # clean (convert to lowercase, remove punctuations and numbers and then strip)\n",
        "    tokens = line.lower().strip().split()\n",
        "    clean_tokens = [t for t in tokens if re.match(r'[^\\W\\d]*$', t)]\n",
        "    # remove stop words\n",
        "    stopwords = nltk.corpus.stopwords.words(\"english\")\n",
        "    non_stop = [clean_non_stop for clean_non_stop in clean_tokens if clean_non_stop not in stopwords]\n",
        "    # stemming \n",
        "    ps = nltk.stem.porter.PorterStemmer()\n",
        "    non_stop_ps = [ps.stem(word) for word in non_stop]\n",
        "    # from list to string\n",
        "    text = \" \".join(non_stop_ps)\n",
        "    result.append(text)\n",
        "  return result\n",
        "\n",
        "train_clean = pre_process(train_en[2])\n",
        "dev_clean = pre_process(dev_en[2])\n",
        "test_clean = pre_process(test_en[2])"
      ],
      "execution_count": null,
      "outputs": [
        {
          "output_type": "stream",
          "name": "stdout",
          "text": [
            "Num of paper in test data: 4814\n",
            "Num of English paper in test data: 4750\n"
          ]
        }
      ]
    },
    {
      "cell_type": "code",
      "metadata": {
        "id": "-ZLnPXzme3oP"
      },
      "source": [
        "#########################\n",
        "# feature representation\n",
        "########################\n",
        "# bag of word\n",
        "vectorize = CountVectorizer()\n",
        "bag = vectorize.fit_transform(train_clean + dev_clean + test_clean)\n",
        "\n",
        "train_bow = bag[0:len(train_clean)].toarray()\n",
        "dev_bow = bag[len(train_clean):len(train_clean)+len(dev_clean)]\n",
        "test_bow = bag[len(train_clean)+len(dev_clean):len(train_clean)+len(dev_clean)+len(test_clean)]"
      ],
      "execution_count": null,
      "outputs": []
    },
    {
      "cell_type": "markdown",
      "metadata": {
        "id": "UVvawb-b9XDl"
      },
      "source": [
        "## Baseline \n",
        "Use features only from title. make prediction against the Dev partition and report precision, recall and F1 (show the computation)."
      ]
    },
    {
      "cell_type": "code",
      "metadata": {
        "id": "Ue5i1DU4kqo8"
      },
      "source": [
        "y_train = train_en[0]\n",
        "X_train = train_bow\n",
        "X_test = dev_bow"
      ],
      "execution_count": null,
      "outputs": []
    },
    {
      "cell_type": "code",
      "metadata": {
        "colab": {
          "base_uri": "https://localhost:8080/"
        },
        "id": "fhYkpBsg9vdB",
        "outputId": "d6e3fc65-cc41-4c3a-e5dc-ac82202095ca"
      },
      "source": [
        "#########################\n",
        "# Multinomial NB\n",
        "########################\n",
        "t0 = time.time()\n",
        "clf = MultinomialNB()\n",
        "clf.fit(X_train, y_train)\n",
        "train_time = time.time() - t0\n",
        "print(\"train time: %0.3fs\" % train_time)\n",
        "\n",
        "t0 = time.time()\n",
        "pred = clf.predict(X_test)\n",
        "test_time = time.time() - t0\n",
        "print(\"test time:  %0.3fs\" % test_time)"
      ],
      "execution_count": null,
      "outputs": [
        {
          "output_type": "stream",
          "name": "stdout",
          "text": [
            "train time: 15.104s\n",
            "test time:  0.001s\n"
          ]
        }
      ]
    },
    {
      "cell_type": "code",
      "metadata": {
        "colab": {
          "base_uri": "https://localhost:8080/"
        },
        "id": "aFPijS3-Mw9g",
        "outputId": "70ed46af-f2c5-4fa3-9b2b-96aec5aa62d0"
      },
      "source": [
        "y_test = dev_en[0]\n",
        "#########################\n",
        "# Evaluation\n",
        "########################\n",
        "# contingency table\n",
        "print(pd.crosstab(index = y_test, columns = pred))\n",
        "precision = 6/(6+144)\n",
        "recall = 6/(6+52)\n",
        "F1 = 2*precision*recall/(precision + recall)\n",
        "print(\"precision of Multinomial Naive Bayes using bag of word representation is: \" + str(precision))\n",
        "print(\"recall of Multinomial Naive Bayes using bag of word representation is: \" + str(recall))\n",
        "print(\"F1 of Multinomial Naive Bayes using bag of word representation is: \" + str(F1))"
      ],
      "execution_count": null,
      "outputs": [
        {
          "output_type": "stream",
          "name": "stdout",
          "text": [
            "col_0    -1   1\n",
            "0              \n",
            "-1     4565  52\n",
            " 1      144   6\n",
            "precision of Multinomial Naive Bayes using bag of word representation is: 0.04\n",
            "recall of Multinomial Naive Bayes using bag of word representation is: 0.10344827586206896\n",
            "F1 of Multinomial Naive Bayes using bag of word representation is: 0.057692307692307696\n"
          ]
        }
      ]
    },
    {
      "cell_type": "markdown",
      "metadata": {
        "id": "5d6gweaAaY82"
      },
      "source": [
        "## Experiment #1: Is longer better?\n",
        "not only using features from title, but also from the abstract and keywords fields"
      ]
    },
    {
      "cell_type": "code",
      "metadata": {
        "id": "PN-gV5-EQ0Cv",
        "colab": {
          "base_uri": "https://localhost:8080/"
        },
        "outputId": "21395879-de1b-4012-c7be-2aa474421e4e"
      },
      "source": [
        "# concatenate title, abstract and keyword\n",
        "# replace NaN with empty string\n",
        "train_en[9] = train_en[9].fillna('')\n",
        "dev_en[9] = dev_en[9].fillna('')\n",
        "test_en[9] = test_en[9].fillna('')\n",
        "train_en[8] = train_en[8].fillna('')\n",
        "dev_en[8] = dev_en[8].fillna('')\n",
        "test_en[8] = test_en[8].fillna('')\n",
        "train_en[2] = train_en[2].fillna('')\n",
        "dev_en[2] = dev_en[2].fillna('')\n",
        "test_en[2] = test_en[2].fillna('')\n",
        "\n",
        "train_en = train_en.assign(concat = lambda train_en: train_en[2] + \" \" + train_en[8] + \" \" + train_en[9])\n",
        "dev_en = dev_en.assign(concat = lambda dev_en: dev_en[2] + \" \" + dev_en[8] + \" \" + dev_en[9])\n",
        "test_en = test_en.assign(concat = lambda test_en: test_en[2] + \" \" + test_en[8] + \" \" + test_en[9])\n",
        "\n",
        "# pre-process\n",
        "train_clean_long = pre_process(train_en['concat'])\n",
        "dev_clean_long = pre_process(dev_en['concat'])\n",
        "test_clean_long = pre_process(test_en['concat'])"
      ],
      "execution_count": null,
      "outputs": [
        {
          "output_type": "stream",
          "name": "stderr",
          "text": [
            "/usr/local/lib/python3.7/dist-packages/ipykernel_launcher.py:5: SettingWithCopyWarning: \n",
            "A value is trying to be set on a copy of a slice from a DataFrame.\n",
            "Try using .loc[row_indexer,col_indexer] = value instead\n",
            "\n",
            "See the caveats in the documentation: https://pandas.pydata.org/pandas-docs/stable/user_guide/indexing.html#returning-a-view-versus-a-copy\n",
            "  \"\"\"\n",
            "/usr/local/lib/python3.7/dist-packages/ipykernel_launcher.py:8: SettingWithCopyWarning: \n",
            "A value is trying to be set on a copy of a slice from a DataFrame.\n",
            "Try using .loc[row_indexer,col_indexer] = value instead\n",
            "\n",
            "See the caveats in the documentation: https://pandas.pydata.org/pandas-docs/stable/user_guide/indexing.html#returning-a-view-versus-a-copy\n",
            "  \n",
            "/usr/local/lib/python3.7/dist-packages/ipykernel_launcher.py:11: SettingWithCopyWarning: \n",
            "A value is trying to be set on a copy of a slice from a DataFrame.\n",
            "Try using .loc[row_indexer,col_indexer] = value instead\n",
            "\n",
            "See the caveats in the documentation: https://pandas.pydata.org/pandas-docs/stable/user_guide/indexing.html#returning-a-view-versus-a-copy\n",
            "  # This is added back by InteractiveShellApp.init_path()\n"
          ]
        }
      ]
    },
    {
      "cell_type": "code",
      "metadata": {
        "id": "9gL30h1KtxlC"
      },
      "source": [
        "# bag of word\n",
        "vectorize = CountVectorizer()\n",
        "bag_long = vectorize.fit_transform(train_clean_long + dev_clean_long + test_clean_long)\n",
        "\n",
        "train_bow_long = bag_long[0:len(train_clean_long)].toarray()\n",
        "dev_bow_long = bag_long[len(train_clean_long):len(train_clean_long)+len(dev_clean_long)]\n",
        "test_bow_long = bag_long[len(train_clean_long)+len(dev_clean_long):len(train_clean_long)+len(dev_clean_long)+len(test_clean_long)]"
      ],
      "execution_count": null,
      "outputs": []
    },
    {
      "cell_type": "code",
      "metadata": {
        "colab": {
          "base_uri": "https://localhost:8080/"
        },
        "id": "wmcyGQ1AuGpG",
        "outputId": "2bb4e299-9bd6-43f2-d2e6-260536d1f112"
      },
      "source": [
        "print(\"train_bow.shape\", train_bow.shape)\n",
        "print(\"train_bow_long.shape\", train_bow_long.shape)"
      ],
      "execution_count": null,
      "outputs": [
        {
          "output_type": "stream",
          "name": "stdout",
          "text": [
            "train_bow.shape (21350, 11199)\n",
            "train_bow_long.shape (21350, 34119)\n"
          ]
        }
      ]
    },
    {
      "cell_type": "code",
      "metadata": {
        "colab": {
          "base_uri": "https://localhost:8080/"
        },
        "id": "fBdTrmjMye9m",
        "outputId": "4d1c0a7c-85df-40ea-fcd1-0817c3eb8de2"
      },
      "source": [
        "y_train_long = train_en[0]\n",
        "X_train_long = train_bow_long\n",
        "X_test_long = dev_bow_long\n",
        "\n",
        "# Multinomial NB\n",
        "t0 = time.time()\n",
        "clf_long = MultinomialNB()\n",
        "clf_long.fit(X_train_long, y_train_long)\n",
        "train_time = time.time() - t0\n",
        "print(\"train time: %0.3fs\" % train_time)\n",
        "\n",
        "t0 = time.time()\n",
        "pred_long = clf_long.predict(X_test_long)\n",
        "test_time = time.time() - t0\n",
        "print(\"test time:  %0.3fs\" % test_time)\n",
        "\n",
        "y_test_long = dev_en[0]"
      ],
      "execution_count": null,
      "outputs": [
        {
          "output_type": "stream",
          "name": "stdout",
          "text": [
            "train time: 35.601s\n",
            "test time:  0.004s\n"
          ]
        }
      ]
    },
    {
      "cell_type": "code",
      "metadata": {
        "colab": {
          "base_uri": "https://localhost:8080/"
        },
        "id": "e-gWK2sjzC0y",
        "outputId": "0dc0ea76-d400-4266-c581-345e2d856a3f"
      },
      "source": [
        "# Evaluation\n",
        "# contingency table\n",
        "print(pd.crosstab(index = y_test_long, columns = pred_long))\n",
        "precision = 65/(65+85)\n",
        "recall = 65/(65+101)\n",
        "F1 = 2*precision*recall/(precision + recall)\n",
        "print(\"precision of Multinomial Naive Bayes using bag of word representation is: \" + str(precision))\n",
        "print(\"recall of Multinomial Naive Bayes using bag of word representation is: \" + str(recall))\n",
        "print(\"F1 of Multinomial Naive Bayes using bag of word representation is: \" + str(F1))"
      ],
      "execution_count": null,
      "outputs": [
        {
          "output_type": "stream",
          "name": "stdout",
          "text": [
            "col_0    -1    1\n",
            "0               \n",
            "-1     4516  101\n",
            " 1       85   65\n",
            "precision of Multinomial Naive Bayes using bag of word representation is: 0.43333333333333335\n",
            "recall of Multinomial Naive Bayes using bag of word representation is: 0.39156626506024095\n",
            "F1 of Multinomial Naive Bayes using bag of word representation is: 0.41139240506329117\n"
          ]
        }
      ]
    },
    {
      "cell_type": "markdown",
      "metadata": {
        "id": "wrb0uftE4oc-"
      },
      "source": [
        "## Experiment 2 TF-IDF\n",
        "I used bag-of-word to represent the data in the experiment 1. Here I used TF-IDF  to represent data "
      ]
    },
    {
      "cell_type": "code",
      "metadata": {
        "id": "1XSm8zVrcCz_"
      },
      "source": [
        "\n",
        "# TF-IDF\n",
        "vectorizer = feature_extraction.text.TfidfVectorizer(max_features = 10000)\n",
        "bag_new = vectorizer.fit_transform(train_clean_long + dev_clean_long + test_clean_long).toarray()\n",
        "train_new = bag_new[0:len(train_clean_long)]\n",
        "dev_new= bag_new[len(train_clean_long):len(train_clean_long)+len(dev_clean_long)]\n",
        "test_new = bag_new[len(train_clean_long)+len(dev_clean_long):len(train_clean_long)+len(dev_clean_long)+len(test_clean_long)]\n"
      ],
      "execution_count": null,
      "outputs": []
    },
    {
      "cell_type": "code",
      "metadata": {
        "id": "UbBKCAJidMA1"
      },
      "source": [
        "y_train_new = train_en[0]\n",
        "X_train_new = train_new\n",
        "X_test_new = dev_new\n",
        "y_test_new = dev_en[0]\n",
        "\n",
        "clf_new = MultinomialNB()\n",
        "clf_new.fit(X_train_new, y_train_new)\n",
        "\n",
        "pred_new = clf_new.predict(X_test_new)"
      ],
      "execution_count": null,
      "outputs": []
    },
    {
      "cell_type": "code",
      "metadata": {
        "id": "nuozHYeqdKVR",
        "colab": {
          "base_uri": "https://localhost:8080/"
        },
        "outputId": "f04cd06a-1854-4496-aa0a-f40c1d5cdc93"
      },
      "source": [
        "# Evaluation\n",
        "# contingency table\n",
        "print(pd.crosstab(index = y_test_new, columns = pred_new))\n",
        "precision = 0/(150)\n",
        "recall = 0/(4521)\n",
        "#F1 = 2*precision*recall/(precision + recall)\n",
        "print(\"precision of Multinomial Naive Bayes using bag of word representation is: \" + str(precision))\n",
        "print(\"recall of Multinomial Naive Bayes using bag of word representation is: \" + str(recall))\n",
        "#print(\"F1 of Multinomial Naive Bayes using bag of word representation is: \" + str(F1))"
      ],
      "execution_count": null,
      "outputs": [
        {
          "output_type": "stream",
          "name": "stdout",
          "text": [
            "col_0    -1\n",
            "0          \n",
            "-1     4621\n",
            " 1      150\n",
            "precision of Multinomial Naive Bayes using bag of word representation is: 0.0\n",
            "recall of Multinomial Naive Bayes using bag of word representation is: 0.0\n"
          ]
        }
      ]
    },
    {
      "cell_type": "markdown",
      "metadata": {
        "id": "WxpINL2g1hy3"
      },
      "source": [
        "## Experiment 3 N-gram\n",
        "Experiment 2 using TF-IDF to represent data, but it can't learn the postive case at all. Here try another freature represetation method to fit title, abstract and keywords: n-gram"
      ]
    },
    {
      "cell_type": "code",
      "metadata": {
        "id": "X5NE2VyW2C70"
      },
      "source": [
        "# 2-gram\n",
        "vectorizer = feature_extraction.text.CountVectorizer(max_features = 20000,ngram_range=(2,2))\n",
        "bag_2 = vectorizer.fit_transform(train_clean_long + dev_clean_long + test_clean_long).toarray()\n",
        "train_2= bag_2[0:len(train_clean_long)]\n",
        "dev_2= bag_2[len(train_clean_long):len(train_clean_long)+len(dev_clean_long)]\n",
        "test_2 = bag_2[len(train_clean_long)+len(dev_clean_long):len(train_clean_long)+len(dev_clean_long)+len(test_clean_long)]"
      ],
      "execution_count": null,
      "outputs": []
    },
    {
      "cell_type": "code",
      "metadata": {
        "id": "Hlq7DDFc7cFY"
      },
      "source": [
        "y_train_2 = train_en[0]\n",
        "X_train_2 = train_2\n",
        "X_test_2 = dev_2\n",
        "y_test_2 = dev_en[0]\n",
        "\n",
        "clf_2 = MultinomialNB()\n",
        "clf_2.fit(X_train_2, y_train_2)\n",
        "\n",
        "pred_2 = clf_2.predict(X_test_2)"
      ],
      "execution_count": null,
      "outputs": []
    },
    {
      "cell_type": "code",
      "metadata": {
        "colab": {
          "base_uri": "https://localhost:8080/"
        },
        "id": "PHcNal_p7l1X",
        "outputId": "b1dd2067-850b-4489-e6f6-a70959c9a2a1"
      },
      "source": [
        "# Evaluation\n",
        "# contingency table\n",
        "print(pd.crosstab(index = y_test_2, columns = pred_2))\n",
        "precision = 102/(102+362)\n",
        "recall = 102/(102+48)\n",
        "F1 = 2*precision*recall/(precision + recall)\n",
        "print(\"precision of Multinomial Naive Bayes using bag of word representation is: \" + str(precision))\n",
        "print(\"recall of Multinomial Naive Bayes using bag of word representation is: \" + str(recall))\n",
        "print(\"F1 of Multinomial Naive Bayes using bag of word representation is: \" + str(F1))"
      ],
      "execution_count": null,
      "outputs": [
        {
          "output_type": "stream",
          "name": "stdout",
          "text": [
            "col_0    -1    1\n",
            "0               \n",
            "-1     4259  362\n",
            " 1       48  102\n",
            "precision of Multinomial Naive Bayes using bag of word representation is: 0.21982758620689655\n",
            "recall of Multinomial Naive Bayes using bag of word representation is: 0.68\n",
            "F1 of Multinomial Naive Bayes using bag of word representation is: 0.3322475570032573\n"
          ]
        }
      ]
    },
    {
      "cell_type": "markdown",
      "metadata": {
        "id": "OvbxvU7TCh-Q"
      },
      "source": [
        "## Final Prediction\n",
        "From previous methods, we conclude that using bag-of-word as feature representation method and title, keywords and abstract as input, it can achieve our best F1 score at 0.413. We used this combination to run our test data"
      ]
    },
    {
      "cell_type": "code",
      "metadata": {
        "id": "debB6NmZN51L"
      },
      "source": [
        "pred_long_final = pd.Series(clf_long.predict(test_bow_long))\n",
        "final_df = pd.concat([test_en[1], pred_long_final],axis=1)"
      ],
      "execution_count": null,
      "outputs": []
    },
    {
      "cell_type": "code",
      "metadata": {
        "id": "lNlskKpPQPjz"
      },
      "source": [
        "import csv\n",
        "with open('output.tsv','wt') as out_file:\n",
        "  writer = csv.writer(out_file, delimiter='\\t', lineterminator='\\n')\n",
        "  for i in range(len(final_df)):\n",
        "    writer.writerow(final_df.iloc[i])"
      ],
      "execution_count": null,
      "outputs": []
    }
  ]
}